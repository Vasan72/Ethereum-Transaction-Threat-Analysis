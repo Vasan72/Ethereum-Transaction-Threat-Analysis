{
 "cells": [
  {
   "cell_type": "code",
   "execution_count": 3,
   "metadata": {},
   "outputs": [
    {
     "name": "stdout",
     "output_type": "stream",
     "text": [
      "                              address  year  day  length    weight  count  \\\n",
      "0   111K8kZAEnJg245r2cM6y9zgJGHZtJPy6  2017   11      18  0.008333      1   \n",
      "1  1123pJv8jzeFQaCV4w644pzQJzVWay2zcA  2016  132      44  0.000244      1   \n",
      "2  112536im7hy6wtKbpH1qYDWtTyMRAcA2p7  2016  246       0  1.000000      1   \n",
      "3  1126eDRw2wqSkWosjTCre8cjjQW8sSeWH7  2016  322      72  0.003906      1   \n",
      "4  1129TSjKtx65E35GiUo4AYVeyo48twbrGX  2016  238     144  0.072848    456   \n",
      "\n",
      "   looped  neighbors       income            label  \n",
      "0       0          2  100050000.0  princetonCerber  \n",
      "1       0          1  100000000.0   princetonLocky  \n",
      "2       0          2  200000000.0  princetonCerber  \n",
      "3       0          2   71200000.0  princetonCerber  \n",
      "4       0          1  200000000.0   princetonLocky  \n",
      "<class 'pandas.core.frame.DataFrame'>\n",
      "RangeIndex: 2916697 entries, 0 to 2916696\n",
      "Data columns (total 10 columns):\n",
      " #   Column     Dtype  \n",
      "---  ------     -----  \n",
      " 0   address    object \n",
      " 1   year       int64  \n",
      " 2   day        int64  \n",
      " 3   length     int64  \n",
      " 4   weight     float64\n",
      " 5   count      int64  \n",
      " 6   looped     int64  \n",
      " 7   neighbors  int64  \n",
      " 8   income     float64\n",
      " 9   label      object \n",
      "dtypes: float64(2), int64(6), object(2)\n",
      "memory usage: 222.5+ MB\n",
      "None\n"
     ]
    }
   ],
   "source": [
    "import pandas as pd  \n",
    "\n",
    "# Load dataset (update the path if needed)\n",
    "df = pd.read_csv(\"BitcoinHeistData.csv\")  \n",
    "\n",
    "# Display the first few rows\n",
    "print(df.head())\n",
    "\n",
    "# Check dataset info\n",
    "print(df.info())\n"
   ]
  },
  {
   "cell_type": "code",
   "execution_count": 4,
   "metadata": {},
   "outputs": [
    {
     "name": "stdout",
     "output_type": "stream",
     "text": [
      "address      0\n",
      "year         0\n",
      "day          0\n",
      "length       0\n",
      "weight       0\n",
      "count        0\n",
      "looped       0\n",
      "neighbors    0\n",
      "income       0\n",
      "label        0\n",
      "dtype: int64\n",
      "Total Duplicates: 0\n",
      "label\n",
      "white                          2875284\n",
      "paduaCryptoWall                  12390\n",
      "montrealCryptoLocker              9315\n",
      "princetonCerber                   9223\n",
      "princetonLocky                    6625\n",
      "montrealCryptXXX                  2419\n",
      "montrealNoobCrypt                  483\n",
      "montrealDMALockerv3                354\n",
      "montrealDMALocker                  251\n",
      "montrealSamSam                      62\n",
      "montrealCryptoTorLocker2015         55\n",
      "montrealGlobeImposter               55\n",
      "montrealGlobev3                     34\n",
      "montrealGlobe                       32\n",
      "montrealWannaCry                    28\n",
      "montrealRazy                        13\n",
      "montrealAPT                         11\n",
      "paduaKeRanger                       10\n",
      "montrealFlyper                       9\n",
      "montrealXTPLocker                    8\n",
      "montrealVenusLocker                  7\n",
      "montrealCryptConsole                 7\n",
      "montrealXLockerv5.0                  7\n",
      "montrealEDA2                         6\n",
      "montrealJigSaw                       4\n",
      "paduaJigsaw                          2\n",
      "montrealXLocker                      1\n",
      "montrealComradeCircle                1\n",
      "montrealSam                          1\n",
      "Name: count, dtype: int64\n"
     ]
    }
   ],
   "source": [
    "# Check for missing values\n",
    "print(df.isnull().sum())\n",
    "\n",
    "# Check for duplicate records\n",
    "print(f\"Total Duplicates: {df.duplicated().sum()}\")\n",
    "\n",
    "# Check unique ransomware labels\n",
    "print(df['label'].value_counts())\n"
   ]
  },
  {
   "cell_type": "code",
   "execution_count": 5,
   "metadata": {},
   "outputs": [
    {
     "name": "stdout",
     "output_type": "stream",
     "text": [
      "<class 'pandas.core.frame.DataFrame'>\n",
      "RangeIndex: 2916697 entries, 0 to 2916696\n",
      "Data columns (total 9 columns):\n",
      " #   Column     Dtype  \n",
      "---  ------     -----  \n",
      " 0   year       int64  \n",
      " 1   day        int64  \n",
      " 2   length     int64  \n",
      " 3   weight     float64\n",
      " 4   count      int64  \n",
      " 5   looped     int64  \n",
      " 6   neighbors  int64  \n",
      " 7   income     float64\n",
      " 8   label      int64  \n",
      "dtypes: float64(2), int64(7)\n",
      "memory usage: 200.3 MB\n",
      "None\n",
      "label\n",
      "0    2875284\n",
      "1      41413\n",
      "Name: count, dtype: int64\n"
     ]
    }
   ],
   "source": [
    "import numpy as np\n",
    "\n",
    "# Convert 'label' to binary classification\n",
    "df['label'] = np.where(df['label'] == 'white', 0, 1)\n",
    "\n",
    "# Drop 'address' column (not needed for ML)\n",
    "df = df.drop(columns=['address'])\n",
    "\n",
    "# Display updated dataset info\n",
    "print(df.info())\n",
    "\n",
    "# Check label distribution\n",
    "print(df['label'].value_counts())\n"
   ]
  },
  {
   "cell_type": "code",
   "execution_count": 6,
   "metadata": {},
   "outputs": [
    {
     "name": "stdout",
     "output_type": "stream",
     "text": [
      "Train set size: (2333357, 8)\n",
      "Test set size: (583340, 8)\n"
     ]
    }
   ],
   "source": [
    "from sklearn.model_selection import train_test_split\n",
    "from sklearn.preprocessing import StandardScaler\n",
    "\n",
    "# Splitting features and target variable\n",
    "X = df.drop(columns=['label'])  # Features\n",
    "y = df['label']  # Target\n",
    "\n",
    "# Split into train and test sets (80-20)\n",
    "X_train, X_test, y_train, y_test = train_test_split(X, y, test_size=0.2, random_state=42, stratify=y)\n",
    "\n",
    "# Standardize the features (important for ML)\n",
    "scaler = StandardScaler()\n",
    "X_train_scaled = scaler.fit_transform(X_train)\n",
    "X_test_scaled = scaler.transform(X_test)\n",
    "\n",
    "# Check shape\n",
    "print(\"Train set size:\", X_train_scaled.shape)\n",
    "print(\"Test set size:\", X_test_scaled.shape)"
   ]
  },
  {
   "cell_type": "code",
   "execution_count": 7,
   "metadata": {},
   "outputs": [
    {
     "name": "stdout",
     "output_type": "stream",
     "text": [
      "🔹 Model Accuracy: 0.9882195632049919\n",
      "\n",
      "🔹 Classification Report:\n",
      "               precision    recall  f1-score   support\n",
      "\n",
      "           0       0.99      1.00      0.99    575057\n",
      "           1       0.71      0.29      0.41      8283\n",
      "\n",
      "    accuracy                           0.99    583340\n",
      "   macro avg       0.85      0.64      0.70    583340\n",
      "weighted avg       0.99      0.99      0.99    583340\n",
      "\n"
     ]
    }
   ],
   "source": [
    "from sklearn.ensemble import RandomForestClassifier\n",
    "from sklearn.metrics import accuracy_score, classification_report\n",
    "\n",
    "# Initialize the model\n",
    "rf_model = RandomForestClassifier(n_estimators=100, random_state=42, class_weight=\"balanced\")\n",
    "\n",
    "# Train the model\n",
    "rf_model.fit(X_train_scaled, y_train)\n",
    "\n",
    "# Predictions\n",
    "y_pred = rf_model.predict(X_test_scaled)\n",
    "\n",
    "# Evaluate the model\n",
    "accuracy = accuracy_score(y_test, y_pred)\n",
    "print(\"🔹 Model Accuracy:\", accuracy)\n",
    "print(\"\\n🔹 Classification Report:\\n\", classification_report(y_test, y_pred))\n"
   ]
  },
  {
   "cell_type": "code",
   "execution_count": 8,
   "metadata": {},
   "outputs": [
    {
     "name": "stdout",
     "output_type": "stream",
     "text": [
      "🔹 Balanced Model Accuracy: 0.9152432543628073\n",
      "\n",
      "🔹 Balanced Classification Report:\n",
      "               precision    recall  f1-score   support\n",
      "\n",
      "           0       1.00      0.92      0.96    575057\n",
      "           1       0.12      0.76      0.20      8283\n",
      "\n",
      "    accuracy                           0.92    583340\n",
      "   macro avg       0.56      0.84      0.58    583340\n",
      "weighted avg       0.98      0.92      0.94    583340\n",
      "\n"
     ]
    }
   ],
   "source": [
    "from imblearn.over_sampling import SMOTE\n",
    "\n",
    "# Apply SMOTE\n",
    "smote = SMOTE(sampling_strategy=0.5, random_state=42)\n",
    "X_train_balanced, y_train_balanced = smote.fit_resample(X_train_scaled, y_train)\n",
    "\n",
    "# Train Random Forest again\n",
    "rf_model_balanced = RandomForestClassifier(n_estimators=200, max_depth=20, random_state=42, class_weight=\"balanced\")\n",
    "rf_model_balanced.fit(X_train_balanced, y_train_balanced)\n",
    "\n",
    "# Predict on test set\n",
    "y_pred_balanced = rf_model_balanced.predict(X_test_scaled)\n",
    "\n",
    "# Evaluate model\n",
    "from sklearn.metrics import accuracy_score, classification_report\n",
    "print(\"🔹 Balanced Model Accuracy:\", accuracy_score(y_test, y_pred_balanced))\n",
    "print(\"\\n🔹 Balanced Classification Report:\\n\", classification_report(y_test, y_pred_balanced))\n"
   ]
  },
  {
   "cell_type": "code",
   "execution_count": 9,
   "metadata": {},
   "outputs": [
    {
     "name": "stdout",
     "output_type": "stream",
     "text": [
      "🔹 XGBoost Model Accuracy: 0.9826396269756917\n",
      "\n",
      "🔹 XGBoost Classification Report:\n",
      "               precision    recall  f1-score   support\n",
      "\n",
      "           0       0.99      0.99      0.99    575057\n",
      "           1       0.42      0.58      0.49      8283\n",
      "\n",
      "    accuracy                           0.98    583340\n",
      "   macro avg       0.71      0.78      0.74    583340\n",
      "weighted avg       0.99      0.98      0.98    583340\n",
      "\n"
     ]
    }
   ],
   "source": [
    "from xgboost import XGBClassifier\n",
    "\n",
    "# Train XGBoost\n",
    "xgb_model = XGBClassifier(n_estimators=500, max_depth=15, learning_rate=0.05, scale_pos_weight=10, random_state=42)\n",
    "xgb_model.fit(X_train_scaled, y_train)\n",
    "\n",
    "# Predict on test set\n",
    "y_pred_xgb = xgb_model.predict(X_test_scaled)\n",
    "\n",
    "# Evaluate model\n",
    "print(\"🔹 XGBoost Model Accuracy:\", accuracy_score(y_test, y_pred_xgb))\n",
    "print(\"\\n🔹 XGBoost Classification Report:\\n\", classification_report(y_test, y_pred_xgb))\n"
   ]
  },
  {
   "cell_type": "code",
   "execution_count": 10,
   "metadata": {},
   "outputs": [
    {
     "name": "stdout",
     "output_type": "stream",
     "text": [
      "🔹 Final XGBoost Model Accuracy: 0.9854133095621764\n",
      "\n",
      "🔹 Final XGBoost Classification Report:\n",
      "               precision    recall  f1-score   support\n",
      "\n",
      "           0       0.99      0.99      0.99    575057\n",
      "           1       0.49      0.47      0.48      8283\n",
      "\n",
      "    accuracy                           0.99    583340\n",
      "   macro avg       0.74      0.73      0.74    583340\n",
      "weighted avg       0.99      0.99      0.99    583340\n",
      "\n"
     ]
    }
   ],
   "source": [
    "xgb_model = XGBClassifier(\n",
    "    n_estimators=700, \n",
    "    max_depth=20, \n",
    "    learning_rate=0.03, \n",
    "    scale_pos_weight=15, \n",
    "    subsample=0.8, \n",
    "    colsample_bytree=0.8, \n",
    "    random_state=42\n",
    ")\n",
    "\n",
    "xgb_model.fit(X_train_scaled, y_train)\n",
    "\n",
    "y_pred_xgb = xgb_model.predict(X_test_scaled)\n",
    "\n",
    "print(\"🔹 Final XGBoost Model Accuracy:\", accuracy_score(y_test, y_pred_xgb))\n",
    "print(\"\\n🔹 Final XGBoost Classification Report:\\n\", classification_report(y_test, y_pred_xgb))\n"
   ]
  },
  {
   "cell_type": "code",
   "execution_count": null,
   "metadata": {},
   "outputs": [
    {
     "name": "stdout",
     "output_type": "stream",
     "text": [
      "✅ Model saved successfully as ransomware_model.pkl\n"
     ]
    }
   ],
   "source": [
    "# Load the model\n",
    "import joblib\n",
    "\n",
    "# Save the trained model\n",
    "joblib.dump(xgb_model, 'bitcoinHeist.pkl')\n",
    "\n",
    "print(\"✅ Model saved successfully as ransomware_model.pkl\")"
   ]
  }
 ],
 "metadata": {
  "kernelspec": {
   "display_name": "Python 3",
   "language": "python",
   "name": "python3"
  },
  "language_info": {
   "codemirror_mode": {
    "name": "ipython",
    "version": 3
   },
   "file_extension": ".py",
   "mimetype": "text/x-python",
   "name": "python",
   "nbconvert_exporter": "python",
   "pygments_lexer": "ipython3",
   "version": "3.12.9"
  }
 },
 "nbformat": 4,
 "nbformat_minor": 2
}
